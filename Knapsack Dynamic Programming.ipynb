{
 "cells": [
  {
   "cell_type": "markdown",
   "metadata": {},
   "source": [
    "## 0 1 Knapsack"
   ]
  },
  {
   "cell_type": "code",
   "execution_count": 8,
   "metadata": {},
   "outputs": [],
   "source": [
    "wt = [1,3,4,5]\n",
    "val = [1,4,5,7]\n",
    "W = 7                          # Capacity\n",
    "n = len(wt)"
   ]
  },
  {
   "cell_type": "code",
   "execution_count": 9,
   "metadata": {},
   "outputs": [],
   "source": [
    "'''\n",
    "Simple recursion\n",
    "\n",
    "output = max profit\n",
    "'''\n",
    "\n",
    "def knapsack(wt,val,W,n):\n",
    "    if n==0 or W==0:\n",
    "        return 0\n",
    "    if wt[n-1]<=W:\n",
    "        take = val[n-1] + knapsack(wt,val,W-wt[n-1],n-1)\n",
    "        skip = knapsack(wt,val,W,n-1)\n",
    "        return max(take,skip)\n",
    "    elif wt[n-1]>W:\n",
    "            return knapsack(wt,val,W,n-1)\n",
    "    \n"
   ]
  },
  {
   "cell_type": "code",
   "execution_count": 8,
   "metadata": {},
   "outputs": [
    {
     "data": {
      "text/plain": [
       "9"
      ]
     },
     "execution_count": 8,
     "metadata": {},
     "output_type": "execute_result"
    }
   ],
   "source": [
    "knapsack(wt,val,W,n)"
   ]
  },
  {
   "cell_type": "code",
   "execution_count": 2,
   "metadata": {},
   "outputs": [],
   "source": [
    "'''\n",
    "With DP (Memoization)\n",
    "'''\n",
    "\n",
    "t=[[0 for i in range(W+1)]for j in range(n+1)]\n",
    "\n",
    "def knapsack_dp(wt,val,W,n):\n",
    "    if n==0 or W==0:\n",
    "        return 0\n",
    "    if t[n][W]!=0:\n",
    "        return t[n][W]\n",
    "    if wt[n-1]<=W:\n",
    "        take = val[n-1] + knapsack_dp(wt,val,W-wt[n-1],n-1)\n",
    "        skip = knapsack_dp(wt,val,W,n-1)\n",
    "        t[n][W]= max(take,skip)\n",
    "    elif wt[n-1]>W:\n",
    "            t[n][W] = knapsack_dp(wt,val,W,n-1)\n",
    "    return t[n][W]\n"
   ]
  },
  {
   "cell_type": "code",
   "execution_count": 3,
   "metadata": {},
   "outputs": [
    {
     "data": {
      "text/plain": [
       "9"
      ]
     },
     "execution_count": 3,
     "metadata": {},
     "output_type": "execute_result"
    }
   ],
   "source": [
    "knapsack_dp(wt,val,W,n)"
   ]
  },
  {
   "cell_type": "code",
   "execution_count": 11,
   "metadata": {},
   "outputs": [],
   "source": [
    "'''\n",
    "With DP (top down)\n",
    "'''\n",
    "\n",
    "def knapsack_td(wt,val,W,n):\n",
    "    t=[[0 for i in range(W+1)]for j in range(n+1)]\n",
    "    \n",
    "    for i in range(1,n+1):\n",
    "        for j in range(1,W+1):\n",
    "            if wt[i-1]<=j:\n",
    "                t[i][j] = max(val[i-1]+t[i-1][j-wt[i-1]],t[i-1][j])\n",
    "            else:\n",
    "                t[i][j]=t[i-1][j]\n",
    "                \n",
    "    return t[n][W]\n",
    "    "
   ]
  },
  {
   "cell_type": "code",
   "execution_count": 12,
   "metadata": {},
   "outputs": [
    {
     "data": {
      "text/plain": [
       "9"
      ]
     },
     "execution_count": 12,
     "metadata": {},
     "output_type": "execute_result"
    }
   ],
   "source": [
    "knapsack_td(wt,val,W,n)"
   ]
  },
  {
   "cell_type": "raw",
   "metadata": {},
   "source": [
    "'''\n",
    "1.) Subset Sum Problem\n",
    "2.) Equal Sum Partition\n",
    "3.) Count of Subset Sum\n",
    "4.) Minimum subset sum difference\n",
    "5.) Target Sum\n",
    "6.) No. of subset count given diference\n",
    "'''"
   ]
  },
  {
   "cell_type": "code",
   "execution_count": 55,
   "metadata": {},
   "outputs": [],
   "source": [
    "# Subset Sum Problem\n",
    "\n",
    "'''\n",
    "We have to find the subset in a given array whose sum is equal\n",
    "to given value. Print( YES or NO)\n",
    "\n",
    "'''\n",
    "\n",
    "arr=[2,3,7,8,10]\n",
    "value = 11\n",
    "\n",
    "n= len(arr)\n",
    "\n",
    "def subset_sum(arr,value,n):\n",
    "    t=[[False for i in range(value+1)]for j in range(n+1)]\n",
    "    for i in range(n+1):\n",
    "        t[i][0]=True\n",
    "\n",
    "    for i in range(1,n+1):\n",
    "        for j in range(1,value+1):\n",
    "            if arr[i-1]<=j:\n",
    "                t[i][j]=t[i-1][j-arr[i-1]] or t[i-1][j]\n",
    "            else:\n",
    "                t[i][j]=t[i-1][j]\n",
    "    return t[n][value]\n",
    "        "
   ]
  },
  {
   "cell_type": "code",
   "execution_count": 50,
   "metadata": {},
   "outputs": [
    {
     "data": {
      "text/plain": [
       "True"
      ]
     },
     "execution_count": 50,
     "metadata": {},
     "output_type": "execute_result"
    }
   ],
   "source": [
    "subset_sum(arr,value,n)"
   ]
  },
  {
   "cell_type": "code",
   "execution_count": 67,
   "metadata": {},
   "outputs": [],
   "source": [
    "# Equal Sum Partition Problem\n",
    "\n",
    "'''\n",
    "Given a subset determine whether it is possible to break it into\n",
    "two subsets of different elements{can be of different lenghts}\n",
    "whose sum is equal\n",
    "'''\n",
    "\n",
    "arr=[1,5,11,5]\n",
    "\n",
    "def equal_sum(arr):\n",
    "    n=len(arr)\n",
    "    total=sum(arr)\n",
    "    if total%2!=0:\n",
    "        return False\n",
    "    else:\n",
    "        return subset_sum(arr,int(total/2),n)\n"
   ]
  },
  {
   "cell_type": "code",
   "execution_count": 68,
   "metadata": {},
   "outputs": [
    {
     "data": {
      "text/plain": [
       "True"
      ]
     },
     "execution_count": 68,
     "metadata": {},
     "output_type": "execute_result"
    }
   ],
   "source": [
    "equal_sum(arr)"
   ]
  },
  {
   "cell_type": "code",
   "execution_count": 75,
   "metadata": {},
   "outputs": [],
   "source": [
    "# Count of Subset Sum\n",
    "\n",
    "'''\n",
    "count the number of possible subsets of a given array whose sum\n",
    "is equal to the given value\n",
    "'''\n",
    "\n",
    "arr=[2,3,5,6,8,10]\n",
    "value=10\n",
    "n=len(arr)\n",
    "\n",
    "def count_subset(arr,value,n):\n",
    "    t=[[0 for i in range(value+1)]for j in range(n+1)]\n",
    "    for i in range(n+1):\n",
    "        t[i][0]=1\n",
    "    \n",
    "    for i in range(1,n+1):\n",
    "        for j in range(value+1):\n",
    "            if arr[i-1]<=j:\n",
    "                t[i][j]=t[i-1][j-arr[i-1]] + t[i-1][j]\n",
    "            else:\n",
    "                t[i][j]=t[i-1][j]\n",
    "                \n",
    "    return t[n][value]\n"
   ]
  },
  {
   "cell_type": "code",
   "execution_count": 76,
   "metadata": {},
   "outputs": [
    {
     "data": {
      "text/plain": [
       "3"
      ]
     },
     "execution_count": 76,
     "metadata": {},
     "output_type": "execute_result"
    }
   ],
   "source": [
    "count_subset(arr,value,n)"
   ]
  },
  {
   "cell_type": "code",
   "execution_count": 82,
   "metadata": {},
   "outputs": [],
   "source": [
    "# Minimum Subset Sum Difference\n",
    "\n",
    "'''\n",
    "Given an array form two subsets such that absolute difference\n",
    "of sum of subsets is minimum\n",
    "'''\n",
    "\n",
    "arr = [1,6,11,5]\n",
    "\n",
    "def mini_sub(arr):\n",
    "    total=sum(arr)\n",
    "    n=len(arr)\n",
    "    \n",
    "    t=[[False for i in range(total+1)]for j in range(n+1)]\n",
    "    for i in range(n+1):\n",
    "        t[i][0]=True\n",
    "        \n",
    "    for i in range(1,n+1):\n",
    "        for j in range(1,total+1):\n",
    "            if arr[i-1]<=j:\n",
    "                t[i][j] = t[i-1][j-arr[i-1]] or t[i-1][j]\n",
    "            else:\n",
    "                t[i][j]= t[i-1][j]\n",
    "    \n",
    "    mini = 1e5\n",
    "    \n",
    "    for i in range(int(total/2)+1):\n",
    "        if t[n][i]==True:\n",
    "            val=abs(total-(2*i))\n",
    "            if val<mini:\n",
    "                mini=val\n",
    "                \n",
    "    return mini"
   ]
  },
  {
   "cell_type": "code",
   "execution_count": 85,
   "metadata": {},
   "outputs": [
    {
     "data": {
      "text/plain": [
       "1"
      ]
     },
     "execution_count": 85,
     "metadata": {},
     "output_type": "execute_result"
    }
   ],
   "source": [
    "mini_sub(arr)"
   ]
  },
  {
   "cell_type": "code",
   "execution_count": null,
   "metadata": {},
   "outputs": [],
   "source": [
    "# Count the no. of subset of given difference\n",
    "'''\n",
    "Given the difference find the number of pairs of subsets of a \n",
    "given array such that difference of sums is equal to the given \n",
    "difference\n",
    "\n",
    "s1 - s2 = diff\n",
    "s1 + s2 = total\n",
    "\n",
    "s1 = (total + diff)/2 \n",
    "'''\n",
    "arr = [1,1,2,3]\n",
    "diff = 1\n",
    "\n",
    "def count_sub_diff(arr,diff):\n",
    "    n=len(arr)\n",
    "    total=sum(arr)\n",
    "    \n",
    "    final= int((total+diff)/2)\n",
    "    \n",
    "    t=[[False for i in range(final+1)]for j in range(n+1)]\n",
    "    for i in range(n+1):\n",
    "        t[i][0]=True\n",
    "        \n",
    "    for i in range(1,n+1):\n",
    "        for j in range(1,final+1):\n",
    "            if arr[i-1]<=j:\n",
    "                t[i][j]=t[i-1][j-arr[i-1]] + t[i-1][j]\n",
    "            else:\n",
    "                t[i][j]=t[i-1][j]\n",
    "            \n",
    "    return t[n][final]"
   ]
  },
  {
   "cell_type": "code",
   "execution_count": 93,
   "metadata": {},
   "outputs": [
    {
     "data": {
      "text/plain": [
       "3"
      ]
     },
     "execution_count": 93,
     "metadata": {},
     "output_type": "execute_result"
    }
   ],
   "source": [
    "count_sub_diff(arr,diff)"
   ]
  },
  {
   "cell_type": "code",
   "execution_count": 94,
   "metadata": {},
   "outputs": [],
   "source": [
    "# Target Sum\n",
    "\n",
    "'''\n",
    "Given an array assign +/- sign before each value such that after\n",
    "performing the operations in sequence we get target sum. Find out\n",
    "number of such combination possible\n",
    "\n",
    "+1 -1 -2 +3 =1 --------------> (3,1) - (1,2) = 1\n",
    "-1 +1 -2 +3 =1 --------------> (3,1) - (1,2) = 1\n",
    "+1 +1 +2 -3 =1 --------------> (1,1,2) - (3) = 1\n",
    "\n",
    "Same as count subset differnce\n",
    "'''\n",
    "arr = [1,1,2,3]\n",
    "target = 1\n",
    "def target_sum(arr,target):\n",
    "    return count_sub_diff(arr,target)"
   ]
  },
  {
   "cell_type": "code",
   "execution_count": 95,
   "metadata": {},
   "outputs": [
    {
     "data": {
      "text/plain": [
       "3"
      ]
     },
     "execution_count": 95,
     "metadata": {},
     "output_type": "execute_result"
    }
   ],
   "source": [
    "target_sum(arr,target)"
   ]
  },
  {
   "cell_type": "markdown",
   "metadata": {},
   "source": [
    "## Unbounded Knapsack"
   ]
  },
  {
   "cell_type": "raw",
   "metadata": {},
   "source": [
    "'''\n",
    "01 Knapsack : we can either include or not only one time\n",
    "\n",
    "unbounded Knapsack : multiple occurences of same item is allowed\n",
    "\n",
    "(if we choose to take the value then again we start from n and if we choose to neglect the value we proceed to n-1)\n",
    "                    \n",
    "Variations -\n",
    "\n",
    "1) Rod Cutting\n",
    "2) Coin Change 1\n",
    "3) Coin Change 2\n",
    "4) Maximum Ribbon Cut\n",
    "'''"
   ]
  },
  {
   "cell_type": "code",
   "execution_count": 96,
   "metadata": {},
   "outputs": [],
   "source": [
    "def unbounded_knapsack(wt,val,W,n):\n",
    "    \n",
    "    t=[[0 for i in range(W+1)]for j in range(n+1)]\n",
    "    \n",
    "    for i in range(1,n+1):\n",
    "        for j in range(1,W+1):\n",
    "            if wt[i-1]<=j:\n",
    "                t[i][j]=max(val[i-1]+t[i][j-wt[i-1]],t[i-1][j])\n",
    "            else:\n",
    "                t[i][j]=t[i-1][j]\n",
    "                \n",
    "    return t[n][W]"
   ]
  },
  {
   "cell_type": "code",
   "execution_count": 97,
   "metadata": {},
   "outputs": [],
   "source": [
    "wt = [1,3,4,5]\n",
    "val = [1,4,5,7]\n",
    "W = 7                          # Capacity\n",
    "n = len(wt)"
   ]
  },
  {
   "cell_type": "code",
   "execution_count": 98,
   "metadata": {},
   "outputs": [
    {
     "data": {
      "text/plain": [
       "9"
      ]
     },
     "execution_count": 98,
     "metadata": {},
     "output_type": "execute_result"
    }
   ],
   "source": [
    "unbounded_knapsack(wt,val,W,n)"
   ]
  },
  {
   "cell_type": "code",
   "execution_count": 102,
   "metadata": {},
   "outputs": [],
   "source": [
    "# Rod Cutting Problem\n",
    "\n",
    "'''\n",
    "Given the rod of given length ,length array and prize array cut \n",
    "the rod such that we get maximum prize\n",
    "\n",
    "Similar to 01 knapsack {wt --> length, val --> prize, W --> rod}\n",
    "\n",
    "It is unbounded as -\n",
    "\n",
    "1 +7 = 8\n",
    "1 +1 +6 = 8\n",
    "Since, 1 is repeated so its a unbounded knapsack problem\n",
    "'''\n",
    "length = [1,2,3,4,5,6,7,8]\n",
    "prize = [1,5,8,9,10,17,17,20]\n",
    "rod = 8\n",
    "n=len(length)\n",
    "def rod_cut(length,prize,rod,n):\n",
    "    return unbounded_knapsack(length,prize,rod,n)\n",
    "    "
   ]
  },
  {
   "cell_type": "code",
   "execution_count": 103,
   "metadata": {},
   "outputs": [
    {
     "data": {
      "text/plain": [
       "22"
      ]
     },
     "execution_count": 103,
     "metadata": {},
     "output_type": "execute_result"
    }
   ],
   "source": [
    "rod_cut(length,prize,rod,n)"
   ]
  },
  {
   "cell_type": "code",
   "execution_count": 1,
   "metadata": {},
   "outputs": [],
   "source": [
    "# Coin Change 1 (maximum number of ways)\n",
    "\n",
    "'''\n",
    "given a array of denomination of coins and a given sum find max\n",
    "no. of possible ways to achieve that sum \n",
    "\n",
    "'''\n",
    "\n",
    "coins = [1,2]\n",
    "total = 8\n",
    "\n",
    "def coin_1(coins,total):\n",
    "    n=len(coins)\n",
    "    \n",
    "    t=[[0 for i in range(total+1)]for j in range(n+1)]\n",
    "    for i in range(n+1):\n",
    "        t[i][0]=1\n",
    "        \n",
    "    for i in range(1,n+1):\n",
    "        for j in range(1,total+1):\n",
    "            if coins[i-1]<=j:\n",
    "                t[i][j] = t[i][j-coins[i-1]] + t[i-1][j]\n",
    "            else:\n",
    "                t[i][j] = t[i-1][j]\n",
    "                \n",
    "    return t[n][total]\n"
   ]
  },
  {
   "cell_type": "code",
   "execution_count": 2,
   "metadata": {},
   "outputs": [
    {
     "data": {
      "text/plain": [
       "5"
      ]
     },
     "execution_count": 2,
     "metadata": {},
     "output_type": "execute_result"
    }
   ],
   "source": [
    "coin_1(coins,total)"
   ]
  },
  {
   "cell_type": "code",
   "execution_count": 112,
   "metadata": {},
   "outputs": [],
   "source": [
    "# Coin Change 2 (minimum number of coins)\n",
    "'''\n",
    "Given a coin array determine the minimum number of coins required\n",
    "to achieve the desired sum\n",
    "'''\n",
    "coins = [1,2,3]\n",
    "total = 5\n",
    "\n",
    "def coin_2(coins,total):\n",
    "    n=len(coins)\n",
    "    \n",
    "    t=[[0 for i in range(total+1)]for j in range(n+1)]\n",
    "    for i in range(total+1):\n",
    "        t[0][i]=1e9 - 1\n",
    "    for i in range(1,total+1):\n",
    "        if i%coins[0]==0:\n",
    "            t[1][i]=i/coins[0]\n",
    "        else:\n",
    "            t[1][i]=1e9 - 1\n",
    "    for i in range(2,n+1):\n",
    "        for j in range(1,total+1):\n",
    "            if coins[i-1]<=j:\n",
    "                t[i][j]=min(1+t[i][j-coins[i-1]],t[i-1][j])\n",
    "            else:\n",
    "                t[i][j]=t[i-1][j]\n",
    "            \n",
    "    return t[n][total]"
   ]
  },
  {
   "cell_type": "code",
   "execution_count": 113,
   "metadata": {},
   "outputs": [
    {
     "data": {
      "text/plain": [
       "2"
      ]
     },
     "execution_count": 113,
     "metadata": {},
     "output_type": "execute_result"
    }
   ],
   "source": [
    "coin_2(coins,total)"
   ]
  },
  {
   "cell_type": "code",
   "execution_count": null,
   "metadata": {},
   "outputs": [],
   "source": []
  }
 ],
 "metadata": {
  "kernelspec": {
   "display_name": "Python 3.7.3 64-bit ('ProgramData': virtualenv)",
   "language": "python",
   "name": "python37364bitprogramdatavirtualenva8475444eeea434aa823131a5930fa22"
  },
  "language_info": {
   "codemirror_mode": {
    "name": "ipython",
    "version": 3
   },
   "file_extension": ".py",
   "mimetype": "text/x-python",
   "name": "python",
   "nbconvert_exporter": "python",
   "pygments_lexer": "ipython3",
   "version": "3.7.3"
  }
 },
 "nbformat": 4,
 "nbformat_minor": 2
}
