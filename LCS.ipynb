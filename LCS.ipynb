{
 "cells": [
  {
   "cell_type": "raw",
   "metadata": {},
   "source": [
    "1) Longest Common Subsequence\n",
    "2) Print LCS\n",
    "3) Shortest Commn Subsequence\n",
    "4) Print SCS\n",
    "5) Min. no. of insertion and deletion\n",
    "6) Longest Repeating Subsequence\n",
    "7) Length of longest subsequence of 'a' which is a substring in 'b'\n",
    "8) Subsequence Pattern Matching\n",
    "9) Count how many times 'a' appear as subsequence in 'b'\n",
    "10) Longest Pallindromic Subsequence\n",
    "11) Longest Pallindromic Substring\n",
    "12) Count of Pallindromic Substring\n",
    "13) Min. no. of deletion in a string to make it pallindrome\n",
    "14) Min. no.of inserton in a string to make it a pallindrome"
   ]
  },
  {
   "cell_type": "code",
   "execution_count": 7,
   "metadata": {},
   "outputs": [],
   "source": [
    "# Longest Common Subsequence\n",
    "'''\n",
    "Substring is continous\n",
    "Subsequence can be discontionous\n",
    "\n",
    "o/p --> abdh -->[4]\n",
    "\n",
    "Recursion\n",
    "'''\n",
    "\n",
    "x = 'abcdgh'\n",
    "y = 'abedfhr'\n",
    "\n",
    "def LCS(x,y,m,n):\n",
    "    if m==0 or n==0:\n",
    "        return 0\n",
    "    elif x[m-1]==y[n-1]:\n",
    "        return 1+ LCS(x,y,m-1,n-1)\n",
    "    else:\n",
    "        return max(LCS(x,y,m-1,n),LCS(x,y,m,n-1))\n",
    "        "
   ]
  },
  {
   "cell_type": "code",
   "execution_count": 8,
   "metadata": {},
   "outputs": [
    {
     "data": {
      "text/plain": [
       "4"
      ]
     },
     "execution_count": 8,
     "metadata": {},
     "output_type": "execute_result"
    }
   ],
   "source": [
    "LCS(x,y,len(x),len(y))"
   ]
  },
  {
   "cell_type": "code",
   "execution_count": 1,
   "metadata": {},
   "outputs": [],
   "source": [
    "# Longest Common Subsequence\n",
    "'''\n",
    "DP -----> Memoization\n",
    "'''\n",
    "\n",
    "x='abcdgh'\n",
    "y='abedfhr'\n",
    "\n",
    "m=len(x)\n",
    "n=len(y)\n",
    "\n",
    "t=[[-1 for i in range(n+1)]for j in range(m+1)]\n",
    "def LCS_dp(x,y,m,n):\n",
    "    if m==0 or n==0:\n",
    "        return 0\n",
    "    if t[m][n]!=-1:\n",
    "        return t[m][n]\n",
    "    elif x[m-1]==y[n-1]:\n",
    "        t[m][n] = 1 + LCS_dp(x,y,m-1,n-1)\n",
    "    else:\n",
    "        t[m][n]= max(LCS_dp(x,y,m-1,n),LCS_dp(x,y,m,n-1))\n",
    "        \n",
    "    return t[m][n]"
   ]
  },
  {
   "cell_type": "code",
   "execution_count": 2,
   "metadata": {},
   "outputs": [
    {
     "data": {
      "text/plain": [
       "4"
      ]
     },
     "execution_count": 2,
     "metadata": {},
     "output_type": "execute_result"
    }
   ],
   "source": [
    "LCS_dp(x,y,m,n)"
   ]
  },
  {
   "cell_type": "code",
   "execution_count": 3,
   "metadata": {},
   "outputs": [],
   "source": [
    "# Longest Common Subsequence\n",
    "'''\n",
    "DP -----> Top down\n",
    "'''\n",
    "\n",
    "x='abcdgh'\n",
    "y='abedfhr'\n",
    "\n",
    "m=len(x)\n",
    "n=len(y)\n",
    "\n",
    "def LCS_td(x,y,m,n):\n",
    "    \n",
    "    t=[[0 for i in range(n+1)]for j in range(m+1)]\n",
    "    \n",
    "    for i in range(1,m+1):\n",
    "        for j in range(1,n+1):\n",
    "            if x[i-1]==y[j-1]:\n",
    "                t[i][j] = 1+t[i-1][j-1] \n",
    "            else:\n",
    "                t[i][j] = max(t[i-1][j],t[i][j-1])\n",
    "                \n",
    "                \n",
    "    return t[m][n]\n",
    "    "
   ]
  },
  {
   "cell_type": "code",
   "execution_count": 24,
   "metadata": {},
   "outputs": [
    {
     "data": {
      "text/plain": [
       "4"
      ]
     },
     "execution_count": 24,
     "metadata": {},
     "output_type": "execute_result"
    }
   ],
   "source": [
    "LCS_td(x,y,m,n)"
   ]
  },
  {
   "cell_type": "code",
   "execution_count": 39,
   "metadata": {},
   "outputs": [],
   "source": [
    "# Longest Common Substring\n",
    "\n",
    "'''\n",
    "Find the longest commmon countinous subsequence size\n",
    "\n",
    "o/p ----> 'ab'\n",
    "'''\n",
    "x = 'abcde'\n",
    "y = 'abcfe'\n",
    "\n",
    "m=len(x)\n",
    "n=len(y)\n",
    "\n",
    "def LCString(x,y,m,n):\n",
    "    t=[[0 for i in range(n+1)]for j in range(m+1)]\n",
    "    \n",
    "    for i in range(1,m+1):\n",
    "        for j in range(1,n+1):\n",
    "            if x[i-1]==y[j-1]:\n",
    "                t[i][j] = 1+t[i-1][j-1] \n",
    "            else:\n",
    "                t[i][j] = 0\n",
    "                \n",
    "                \n",
    "    maxi=0\n",
    "    for i in range(m+1):\n",
    "        for j in range(n+1):\n",
    "            maxi= max(maxi,t[i][j])\n",
    "            \n",
    "    return maxi\n",
    "    "
   ]
  },
  {
   "cell_type": "code",
   "execution_count": 40,
   "metadata": {},
   "outputs": [
    {
     "data": {
      "text/plain": [
       "3"
      ]
     },
     "execution_count": 40,
     "metadata": {},
     "output_type": "execute_result"
    }
   ],
   "source": [
    "LCString(x,y,m,n)"
   ]
  },
  {
   "cell_type": "code",
   "execution_count": 60,
   "metadata": {},
   "outputs": [],
   "source": [
    "# Print LCS b/w 2 strings\n",
    "\n",
    "'''\n",
    "Print the longest common subsequence\n",
    "\n",
    "'''\n",
    "\n",
    "x = 'acbcafe'\n",
    "y = 'abcdafe'\n",
    "\n",
    "m = len(x)\n",
    "n = len(y)\n",
    "\n",
    "def print_LCS(x,y,m,n):\n",
    "    t=[[0 for i in range(n+1)]for j in range(m+1)]\n",
    "    \n",
    "    for i in range(1,m+1):\n",
    "        for j in range(1,n+1):\n",
    "            if x[i-1]==y[j-1]:\n",
    "                t[i][j] = 1+t[i-1][j-1] \n",
    "            else:\n",
    "                t[i][j] = max(t[i-1][j],t[i][j-1])\n",
    "                \n",
    "    out=''\n",
    "    i,j=m,n\n",
    "    \n",
    "    while i>0 or j>0:\n",
    "        \n",
    "        if x[i-1]==y[j-1]:\n",
    "            out += x[i-1]\n",
    "            i,j=i-1,j-1\n",
    "        elif t[i][j-1]>t[i-1][j]:\n",
    "            j=j-1\n",
    "        else:\n",
    "            i=i-1\n",
    "            \n",
    "    return out[::-1]\n",
    "    "
   ]
  },
  {
   "cell_type": "code",
   "execution_count": 61,
   "metadata": {},
   "outputs": [
    {
     "data": {
      "text/plain": [
       "'abcafe'"
      ]
     },
     "execution_count": 61,
     "metadata": {},
     "output_type": "execute_result"
    }
   ],
   "source": [
    "print_LCS(x,y,m,n)"
   ]
  },
  {
   "cell_type": "code",
   "execution_count": 8,
   "metadata": {},
   "outputs": [],
   "source": [
    "# Shortest Common Supersequence\n",
    "'''\n",
    "Given two strings merge them in a shortest way such that we get both the\n",
    "string as subsequence in the merged string\n",
    "\n",
    "x='geek'\n",
    "y='eke'\n",
    "\n",
    "1st way -----> geekeke (Long way)\n",
    "2nd way -----> geeke  (short way) ---> o/p\n",
    "\n",
    "here 'ek' is the LCS so to get the shortest supersequence we have to consider \n",
    "the LCS part once only \n",
    "So, o/p will be m+n-LCS\n",
    "'''\n",
    "\n",
    "x='geek'\n",
    "y='eke'\n",
    "\n",
    "m=len(x)\n",
    "n=len(y)\n",
    "\n",
    "def SCS(x,y,m,n):\n",
    "    return m+n-LCS_td(x,y,m,n)\n",
    "    "
   ]
  },
  {
   "cell_type": "code",
   "execution_count": 9,
   "metadata": {},
   "outputs": [
    {
     "data": {
      "text/plain": [
       "5"
      ]
     },
     "execution_count": 9,
     "metadata": {},
     "output_type": "execute_result"
    }
   ],
   "source": [
    "SCS(x,y,m,n)"
   ]
  },
  {
   "cell_type": "code",
   "execution_count": 64,
   "metadata": {},
   "outputs": [],
   "source": [
    "# Min. no. of insertion and deletion to change string 'a' to string 'b'\n",
    "'''\n",
    "\n",
    "a='heap'\n",
    "b='pea'\n",
    "\n",
    "so inserting 'p' in start of a -----> pheap\n",
    "then deleting 'h' and last 'p' from a ------> pea --->b\n",
    "\n",
    "Here we have to give no. of insertion/deletion required\n",
    "Here 'ea' is a LCS so {m-LCS}---> no. of deletion & {n-LCS}--->no. of insertion\n",
    "o/p ----> (m-LCS) + (n-LCS)\n",
    "'''\n",
    "\n",
    "a='heap'\n",
    "b='pea'\n",
    "\n",
    "m=len(x)\n",
    "n=len(y)\n",
    "\n",
    "def min_insert_del(x,y,m,n):\n",
    "    l=LCS_td(x,y,m,n)\n",
    "    return (m-l)+(n-l)"
   ]
  },
  {
   "cell_type": "code",
   "execution_count": 65,
   "metadata": {},
   "outputs": [
    {
     "data": {
      "text/plain": [
       "3"
      ]
     },
     "execution_count": 65,
     "metadata": {},
     "output_type": "execute_result"
    }
   ],
   "source": [
    "min_insert_del(x,y,m,n)"
   ]
  },
  {
   "cell_type": "code",
   "execution_count": 4,
   "metadata": {},
   "outputs": [],
   "source": [
    "# Longest pallindromic subsequence\n",
    "'''\n",
    "Given a string find the length of longest pallindromic subsequence in the \n",
    "string\n",
    "\n",
    "pallindromic subsequences:\n",
    "\n",
    "1) abcba\n",
    "2) bcb\n",
    "3) b\n",
    "\n",
    "longest - abcba ----> length =5\n",
    "\n",
    "'''\n",
    "\n",
    "s = 'agbcba'\n",
    "t = s[::-1]\n",
    "\n",
    "m= len(s)\n",
    "n=m\n",
    "\n",
    "def LPS(s,t,m,n):\n",
    "    return LCS_td(s,t,m,n)\n"
   ]
  },
  {
   "cell_type": "code",
   "execution_count": 5,
   "metadata": {},
   "outputs": [
    {
     "data": {
      "text/plain": [
       "5"
      ]
     },
     "execution_count": 5,
     "metadata": {},
     "output_type": "execute_result"
    }
   ],
   "source": [
    "LPS(s,t,m,n)"
   ]
  },
  {
   "cell_type": "code",
   "execution_count": 6,
   "metadata": {},
   "outputs": [],
   "source": [
    "# Minimum no. of deletion to make a string to a pallindrome\n",
    "'''\n",
    "Given a string delete some elements to make the resulting string into\n",
    "pallindrome\n",
    "\n",
    "s='agbcba'\n",
    "1) deleting 'a','g','a'---> s=bcb\n",
    "2) deleting 'a','g','b','b','a'-----> s=c\n",
    "3) deleting 'g'----> s=abcba ---------->o/p = minimum deletion-->1\n",
    "\n",
    "So its like we have to find longest pallindromic subsequence as it will give\n",
    "us minimum no. of deletion\n",
    "\n",
    "'''\n",
    "\n",
    "s='agbcba'\n",
    "t=s[::-1]\n",
    "m=len(s)\n",
    "n=m\n",
    "\n",
    "def min_del_pall(s,t,m,n):\n",
    "    return m-LPS(s,t,m,n)"
   ]
  },
  {
   "cell_type": "code",
   "execution_count": 7,
   "metadata": {},
   "outputs": [
    {
     "data": {
      "text/plain": [
       "1"
      ]
     },
     "execution_count": 7,
     "metadata": {},
     "output_type": "execute_result"
    }
   ],
   "source": [
    "min_del_pall(s,t,m,n)"
   ]
  },
  {
   "cell_type": "code",
   "execution_count": 22,
   "metadata": {},
   "outputs": [],
   "source": [
    "# Print shortest common supersequence\n",
    "\n",
    "a = 'acbcf'\n",
    "b = 'abcdaf'\n",
    "m=len(a)\n",
    "n=len(b)\n",
    "\n",
    "def print_scs(a,b,m,n):\n",
    "    t=[[0 for i in range(n+1)]for j in range(m+1)]\n",
    "    \n",
    "    for i in range(1,m+1):\n",
    "        for j in range(1,n+1):\n",
    "            if a[i-1]==b[j-1]:\n",
    "                t[i][j]=1+t[i-1][j-1]\n",
    "            else:\n",
    "                t[i][j]=max(t[i-1][j],t[i][j-1])\n",
    "                \n",
    "    out=''\n",
    "    i,j=m,n\n",
    "    while i>0 or j>0:\n",
    "        if a[i-1]==b[j-1]:\n",
    "            out+=a[i-1]\n",
    "            i,j=i-1,j-1\n",
    "        elif t[i][j-1]>t[i-1][j]:\n",
    "            out+=b[j-1]\n",
    "            j=j-1\n",
    "        else:\n",
    "            out+=a[i-1]\n",
    "            i=i-1\n",
    "            \n",
    "    if i>0:\n",
    "        out+=a[i-1::-1]\n",
    "    elif j>0:\n",
    "        out+=b[j-1::-1]\n",
    "            \n",
    "    return out[::-1]"
   ]
  },
  {
   "cell_type": "code",
   "execution_count": 23,
   "metadata": {},
   "outputs": [
    {
     "data": {
      "text/plain": [
       "'acbcdaf'"
      ]
     },
     "execution_count": 23,
     "metadata": {},
     "output_type": "execute_result"
    }
   ],
   "source": [
    "print_scs(a,b,m,n)"
   ]
  },
  {
   "cell_type": "code",
   "execution_count": 31,
   "metadata": {},
   "outputs": [],
   "source": [
    "# Longest repeting subsequence\n",
    "'''\n",
    "Given a string find the length of longest subsequence which repeats itself\n",
    "\n",
    "s='aabebcdd'\n",
    "\n",
    "subseqence = 'abd' ----> it repeats itself ----> o/p-->3\n",
    "'''\n",
    "s='aabebcedd'\n",
    "t=s\n",
    "m=len(s)\n",
    "n=m\n",
    "\n",
    "def LRS(x,y,m,n):\n",
    "    t=[[0 for i in range(n+1)]for j in range(m+1)]\n",
    "    \n",
    "    for i in range(1,m+1):\n",
    "        for j in range(1,n+1):\n",
    "            if x[i-1]==y[j-1] and i!=j:\n",
    "                t[i][j] = 1+t[i-1][j-1] \n",
    "            else:\n",
    "                t[i][j] = max(t[i-1][j],t[i][j-1])\n",
    "                \n",
    "    return t[m][n]"
   ]
  },
  {
   "cell_type": "code",
   "execution_count": 32,
   "metadata": {},
   "outputs": [
    {
     "data": {
      "text/plain": [
       "4"
      ]
     },
     "execution_count": 32,
     "metadata": {},
     "output_type": "execute_result"
    }
   ],
   "source": [
    "LRS(s,t,m,n)"
   ]
  },
  {
   "cell_type": "code",
   "execution_count": 35,
   "metadata": {},
   "outputs": [],
   "source": [
    "# Sequence Pattern Matching\n",
    "'''\n",
    "Given two string determine whether one string is present in other completely\n",
    "as a subsequence\n",
    "\n",
    "a='axy'\n",
    "b='adxcpy'\n",
    "\n",
    "o/p -----> True\n",
    "'''\n",
    "a='axy'\n",
    "b='adxcpy'\n",
    "m= len(a)\n",
    "n=len(b)\n",
    "\n",
    "def sequence(a,b,m,n):\n",
    "    t = LCS_td(a,b,m,n)\n",
    "    if t == min(m,n):\n",
    "        return True\n",
    "    else:\n",
    "        return False"
   ]
  },
  {
   "cell_type": "code",
   "execution_count": 36,
   "metadata": {},
   "outputs": [
    {
     "data": {
      "text/plain": [
       "True"
      ]
     },
     "execution_count": 36,
     "metadata": {},
     "output_type": "execute_result"
    }
   ],
   "source": [
    "sequence(a,b,m,n)"
   ]
  },
  {
   "cell_type": "code",
   "execution_count": 129,
   "metadata": {},
   "outputs": [],
   "source": [
    "# Minimum no. of insertion in a string to make it pallindrome\n",
    "'''\n",
    "Given a string find minimum no. of insertion to make a string into pallindrome\n",
    "'''\n",
    "\n",
    "s='aebcbda'\n",
    "t=s[::-1]\n",
    "m=len(s)\n",
    "n=m\n",
    "\n",
    "def min_insert_palli(s,t,m,n):\n",
    "    return min_del_pall(s,t,m,n)"
   ]
  },
  {
   "cell_type": "code",
   "execution_count": 130,
   "metadata": {},
   "outputs": [
    {
     "data": {
      "text/plain": [
       "2"
      ]
     },
     "execution_count": 130,
     "metadata": {},
     "output_type": "execute_result"
    }
   ],
   "source": [
    "min_insert_palli(s,t,m,n)"
   ]
  },
  {
   "cell_type": "code",
   "execution_count": null,
   "metadata": {},
   "outputs": [],
   "source": []
  }
 ],
 "metadata": {
  "kernelspec": {
   "display_name": "Python 3.7.3 64-bit ('ProgramData': virtualenv)",
   "language": "python",
   "name": "python37364bitprogramdatavirtualenva8475444eeea434aa823131a5930fa22"
  },
  "language_info": {
   "codemirror_mode": {
    "name": "ipython",
    "version": 3
   },
   "file_extension": ".py",
   "mimetype": "text/x-python",
   "name": "python",
   "nbconvert_exporter": "python",
   "pygments_lexer": "ipython3",
   "version": "3.7.3"
  }
 },
 "nbformat": 4,
 "nbformat_minor": 2
}
