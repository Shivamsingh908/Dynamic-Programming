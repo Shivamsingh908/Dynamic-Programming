{
 "cells": [
  {
   "cell_type": "raw",
   "metadata": {},
   "source": [
    "1) MCM\n",
    "2) Printing MCM\n",
    "3) Pallindrome Partitioning\n",
    "4) Scramble String\n",
    "5) Egg Dropping Problem"
   ]
  },
  {
   "cell_type": "code",
   "execution_count": 5,
   "metadata": {},
   "outputs": [],
   "source": [
    "# MCM {Matrix Chain Multiplication}\n",
    "'''\n",
    "Recurssion\n",
    "\n",
    "arr can be array or string i--> around start index ; j--> around end index\n",
    "break arr at every k; func depends on question\n",
    "\n",
    "def solve(arr,i,j):\n",
    "    if i>j:\n",
    "        return 0\n",
    "    for k in range(i,j+1):\n",
    "        temp_ans = solve(arr,i,k) + solve(arr,k+1,j)\n",
    "        \n",
    "        ans = func(temp_ans)\n",
    "    \n",
    "    return ans\n",
    "    \n",
    "'''\n",
    "\n",
    "'''\n",
    "Given some matrices multiply them in such a way such that cost of multiplication\n",
    "will be minimum...cost means no. of multiplication\n",
    "\n",
    "A ----> 10 X 30\n",
    "B ----> 30 X 5\n",
    "C ----> 5 X 60\n",
    "\n",
    "cost = (AB)C ----> 10*30*5 + 10*5*60 = 4500 ----> minimum --> o/p\n",
    "cost = A(BC) ----> 30*5*60 + 10*30*60 = 27000\n",
    "\n",
    "arr=[40,20,30,10,30]\n",
    "A1 --> 40 X 20 ; A2 --> 20 X 30 ; A3 --> 30 X 10 ; A4 --> 10 X 30\n",
    "'''\n",
    "arr = [40,20,30,10,30]\n",
    "i=1\n",
    "j=len(arr)-1\n",
    "def solve(arr,i,j):\n",
    "    if i>=j:\n",
    "        return 0\n",
    "    mini=1e9\n",
    "    for k in range(i,j):\n",
    "        temp_ans = solve(arr,i,k) + solve(arr,k+1,j) + (arr[i-1]*arr[k]*arr[j])\n",
    "        \n",
    "        mini=min(temp_ans,mini)\n",
    "    \n",
    "    return mini\n"
   ]
  },
  {
   "cell_type": "code",
   "execution_count": 6,
   "metadata": {},
   "outputs": [
    {
     "data": {
      "text/plain": [
       "26000"
      ]
     },
     "execution_count": 6,
     "metadata": {},
     "output_type": "execute_result"
    }
   ],
   "source": [
    "solve(arr,i,j)"
   ]
  },
  {
   "cell_type": "code",
   "execution_count": 25,
   "metadata": {},
   "outputs": [],
   "source": [
    "'''\n",
    "Dp ---> Memoization\n",
    "'''\n",
    "arr = [40,20,30,10,30]\n",
    "i=1\n",
    "j=len(arr)-1\n",
    "t=[[-1 for m in range(j+2)] for l in range(j+2)]\n",
    "def solve_dp(arr,i,j):\n",
    "    if i>=j:\n",
    "        return 0\n",
    "    if t[i][j]!=-1:\n",
    "        return t[i][j]\n",
    "    mini=1e9\n",
    "    for k in range(i,j):\n",
    "        temp_ans = solve_dp(arr,i,k) + solve_dp(arr,k+1,j) + (arr[i-1]*arr[k]*arr[j])\n",
    "        \n",
    "        mini=min(temp_ans,mini)\n",
    "        \n",
    "        t[i][j] = mini\n",
    "    \n",
    "    return t[i][j]\n"
   ]
  },
  {
   "cell_type": "code",
   "execution_count": 26,
   "metadata": {},
   "outputs": [
    {
     "data": {
      "text/plain": [
       "26000"
      ]
     },
     "execution_count": 26,
     "metadata": {},
     "output_type": "execute_result"
    }
   ],
   "source": [
    "solve_dp(arr,i,j)"
   ]
  },
  {
   "cell_type": "code",
   "execution_count": 17,
   "metadata": {},
   "outputs": [],
   "source": [
    "# Pallindrome Partitioning\n",
    "'''\n",
    "Recusive\n",
    "\n",
    "Given a string divide it in such a way that each part is a pallindrome . Find \n",
    "minimum no. of such partition\n",
    "\n",
    "s='bitin'\n",
    "2 partition ----> b, iti, n\n",
    "'''\n",
    "\n",
    "s = 'bitin'\n",
    "i=0\n",
    "j=len(s)-1\n",
    "\n",
    "def pall_partition(s,i,j):\n",
    "    x=s[i:j+1]\n",
    "    if i>=j:\n",
    "        return 0\n",
    "    elif x==x[::-1]:\n",
    "        return 0\n",
    "    ans=1e9\n",
    "    for k in range(i,j):\n",
    "        temp = pall_partition(s,i,k)+pall_partition(s,k+1,j)+1\n",
    "        ans=min(ans,temp)\n",
    "\n",
    "    return ans\n",
    "        "
   ]
  },
  {
   "cell_type": "code",
   "execution_count": 18,
   "metadata": {},
   "outputs": [
    {
     "data": {
      "text/plain": [
       "2"
      ]
     },
     "execution_count": 18,
     "metadata": {},
     "output_type": "execute_result"
    }
   ],
   "source": [
    "pall_partition(s,i,j)"
   ]
  },
  {
   "cell_type": "code",
   "execution_count": 27,
   "metadata": {},
   "outputs": [],
   "source": [
    "# Pallindrome Partitioning\n",
    "'''\n",
    "Dp- Memoization\n",
    "'''\n",
    "\n",
    "s = 'bitin'\n",
    "i=0\n",
    "j=len(s)-1\n",
    "t=[[-1 for m in range(j+2)] for l in range(j+2)]\n",
    "def pall_partition_dp(s,i,j):\n",
    "    x=s[i:j+1]\n",
    "    if i>=j:\n",
    "        return 0\n",
    "    elif x==x[::-1]:\n",
    "        return 0\n",
    "    if t[i][j]!=-1:\n",
    "        return t[i][j]\n",
    "    ans=1e9\n",
    "    for k in range(i,j):\n",
    "        temp = pall_partition_dp(s,i,k)+pall_partition_dp(s,k+1,j)+1\n",
    "        ans=min(ans,temp)\n",
    "        t[i][j]=ans\n",
    "\n",
    "    return t[i][j]"
   ]
  },
  {
   "cell_type": "code",
   "execution_count": 28,
   "metadata": {},
   "outputs": [
    {
     "data": {
      "text/plain": [
       "2"
      ]
     },
     "execution_count": 28,
     "metadata": {},
     "output_type": "execute_result"
    }
   ],
   "source": [
    "pall_partition_dp(s,i,j)"
   ]
  },
  {
   "cell_type": "code",
   "execution_count": 29,
   "metadata": {},
   "outputs": [],
   "source": [
    "# Pallindrome Partitioning\n",
    "'''\n",
    "Dp- Memoization (more optimized)\n",
    "'''\n",
    "\n",
    "s = 'bitin'\n",
    "i=0\n",
    "j=len(s)-1\n",
    "t=[[-1 for m in range(j+2)] for l in range(j+2)]\n",
    "def pall_partition_dpm(s,i,j):\n",
    "    x=s[i:j+1]\n",
    "    if i>=j:\n",
    "        return 0\n",
    "    elif x==x[::-1]:\n",
    "        return 0\n",
    "    if t[i][j]!=-1:\n",
    "        return t[i][j]\n",
    "    ans=1e9\n",
    "    for k in range(i,j):\n",
    "        if t[i][k]!=-1:\n",
    "            left = t[i][k]\n",
    "        else:\n",
    "            left = pall_partition_dpm(s,i,k)\n",
    "        if t[k+1][j]!=-1:\n",
    "            right = t[k+1][j]\n",
    "        else:\n",
    "            right = pall_partition_dpm(s,k+1,j)\n",
    "            \n",
    "        temp = left+right+1\n",
    "        ans=min(ans,temp)\n",
    "        t[i][j]=ans\n",
    "\n",
    "    return t[i][j]"
   ]
  },
  {
   "cell_type": "code",
   "execution_count": 30,
   "metadata": {},
   "outputs": [
    {
     "data": {
      "text/plain": [
       "2"
      ]
     },
     "execution_count": 30,
     "metadata": {},
     "output_type": "execute_result"
    }
   ],
   "source": [
    "pall_partition_dpm(s,i,j)"
   ]
  },
  {
   "cell_type": "code",
   "execution_count": 67,
   "metadata": {},
   "outputs": [],
   "source": [
    "# Scrambled Striing\n",
    "'''\n",
    "Recursive\n",
    "\n",
    "Given a two strings determine whether they are scrambled or not\n",
    "\n",
    "'''\n",
    "a = 'great'\n",
    "b = 'tearg'\n",
    "def scramble(a,b):\n",
    "    if len(a)!=len(b):\n",
    "        return False\n",
    "    if a==b:\n",
    "        return True\n",
    "    if len(a)<=1:\n",
    "        return False\n",
    "    n=len(a)\n",
    "    flag = False\n",
    "    for i in range(1,n):\n",
    "        if (scramble(a[:i],b[-i:])==True and scramble(a[i:],b[:-i])==True) or \\\n",
    "        (scramble(a[:i],b[:i])==True and scramble(a[i:],b[i:])==True):\n",
    "            flag=True\n",
    "            break\n",
    "            \n",
    "    return flag"
   ]
  },
  {
   "cell_type": "code",
   "execution_count": 68,
   "metadata": {},
   "outputs": [
    {
     "data": {
      "text/plain": [
       "True"
      ]
     },
     "execution_count": 68,
     "metadata": {},
     "output_type": "execute_result"
    }
   ],
   "source": [
    "scramble(a,b)"
   ]
  },
  {
   "cell_type": "code",
   "execution_count": 69,
   "metadata": {},
   "outputs": [],
   "source": [
    "# Scrambled Striing\n",
    "'''\n",
    "Dp - Memoization\n",
    "'''\n",
    "a = 'great'\n",
    "b = 'tearg'\n",
    "d={}\n",
    "def scramble_dp(a,b):\n",
    "    if len(a)!=len(b):\n",
    "        return False\n",
    "    if a==b:\n",
    "        return True\n",
    "    if len(a)<=1:\n",
    "        return False\n",
    "    if d.get(a+' '+b,0)!=0:\n",
    "        return d.get(a+' '+b,0)\n",
    "    n=len(a)\n",
    "    flag = False\n",
    "    for i in range(1,n):\n",
    "        if (scramble_dp(a[:i],b[-i:])==True and scramble_dp(a[i:],b[:-i])==True) or \\\n",
    "        (scramble_dp(a[:i],b[:i])==True and scramble_dp(a[i:],b[i:])==True):\n",
    "            flag=True\n",
    "            break\n",
    "    d[a+' '+b]=d.get(a+' '+b,0)+flag\n",
    "            \n",
    "    return bool(d[a+' '+b])"
   ]
  },
  {
   "cell_type": "code",
   "execution_count": 70,
   "metadata": {},
   "outputs": [
    {
     "data": {
      "text/plain": [
       "True"
      ]
     },
     "execution_count": 70,
     "metadata": {},
     "output_type": "execute_result"
    }
   ],
   "source": [
    "scramble_dp(a,b)"
   ]
  },
  {
   "cell_type": "code",
   "execution_count": 75,
   "metadata": {},
   "outputs": [],
   "source": [
    "# Egg Dropping Problem\n",
    "'''\n",
    "Recursion\n",
    "Given no. of eggs and no. of floor determine minimum no. of  attempts\n",
    "required to find threshold floor such that from which if we drop the egg it will\n",
    "not break\n",
    "'''\n",
    "eggs=3\n",
    "floor=5\n",
    "\n",
    "def egg(e,f):\n",
    "    if f==0 or f==1:\n",
    "        return f\n",
    "    if e==1:\n",
    "        return f\n",
    "    mini=1e9\n",
    "    for k in range(1,f+1):\n",
    "        temp=max(egg(e-1,k-1),egg(e,f-k))+1\n",
    "        mini=min(mini,temp)\n",
    "        \n",
    "    return mini\n",
    "        "
   ]
  },
  {
   "cell_type": "code",
   "execution_count": 76,
   "metadata": {},
   "outputs": [
    {
     "data": {
      "text/plain": [
       "3"
      ]
     },
     "execution_count": 76,
     "metadata": {},
     "output_type": "execute_result"
    }
   ],
   "source": [
    "egg(eggs,floor)"
   ]
  },
  {
   "cell_type": "code",
   "execution_count": 77,
   "metadata": {},
   "outputs": [],
   "source": [
    "# Egg Dropping Problem\n",
    "'''\n",
    "Dp- Memoization\n",
    "'''\n",
    "eggs=3\n",
    "floor=5\n",
    "t=[[-1 for i in range(floor+1)]for j in range(eggs+1)]\n",
    "def egg_dp(e,f):\n",
    "    if f==0 or f==1:\n",
    "        return f\n",
    "    if e==1:\n",
    "        return f\n",
    "    if t[e][f]!=-1:\n",
    "        return t[e][f]\n",
    "    mini=1e9\n",
    "    for k in range(1,f+1):\n",
    "        temp=max(egg_dp(e-1,k-1),egg_dp(e,f-k))+1\n",
    "        mini=min(mini,temp)\n",
    "    t[e][f]=mini\n",
    "        \n",
    "    return t[e][f]"
   ]
  },
  {
   "cell_type": "code",
   "execution_count": 78,
   "metadata": {},
   "outputs": [
    {
     "data": {
      "text/plain": [
       "3"
      ]
     },
     "execution_count": 78,
     "metadata": {},
     "output_type": "execute_result"
    }
   ],
   "source": [
    "egg_dp(eggs,floor)"
   ]
  },
  {
   "cell_type": "code",
   "execution_count": null,
   "metadata": {},
   "outputs": [],
   "source": []
  }
 ],
 "metadata": {
  "kernelspec": {
   "display_name": "Python 3",
   "language": "python",
   "name": "python3"
  },
  "language_info": {
   "codemirror_mode": {
    "name": "ipython",
    "version": 3
   },
   "file_extension": ".py",
   "mimetype": "text/x-python",
   "name": "python",
   "nbconvert_exporter": "python",
   "pygments_lexer": "ipython3",
   "version": "3.7.3"
  }
 },
 "nbformat": 4,
 "nbformat_minor": 2
}
